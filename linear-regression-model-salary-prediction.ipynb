{
 "cells": [
  {
   "cell_type": "code",
   "execution_count": 1,
   "id": "cf6bec9b",
   "metadata": {
    "_cell_guid": "b1076dfc-b9ad-4769-8c92-a6c4dae69d19",
    "_uuid": "8f2839f25d086af736a60e9eeb907d3b93b6e0e5",
    "execution": {
     "iopub.execute_input": "2023-12-22T10:31:40.397695Z",
     "iopub.status.busy": "2023-12-22T10:31:40.397278Z",
     "iopub.status.idle": "2023-12-22T10:31:42.867789Z",
     "shell.execute_reply": "2023-12-22T10:31:42.866916Z"
    },
    "papermill": {
     "duration": 2.478657,
     "end_time": "2023-12-22T10:31:42.870175",
     "exception": false,
     "start_time": "2023-12-22T10:31:40.391518",
     "status": "completed"
    },
    "tags": []
   },
   "outputs": [
    {
     "name": "stdout",
     "output_type": "stream",
     "text": [
      "/kaggle/input/salary-prediction-simple-linear-regression/SalaryPrediction.csv\n"
     ]
    }
   ],
   "source": [
    "# This Python 3 environment comes with many helpful analytics libraries installed\n",
    "# It is defined by the kaggle/python Docker image: https://github.com/kaggle/docker-python\n",
    "# For example, here's several helpful packages to load\n",
    "\n",
    "import numpy as np # linear algebra\n",
    "import pandas as pd # data processing, CSV file I/O (e.g. pd.read_csv)\n",
    "import seaborn as sns\n",
    "\n",
    "# Input data files are available in the read-only \"../input/\" directory\n",
    "# For example, running this (by clicking run or pressing Shift+Enter) will list all files under the input directory\n",
    "\n",
    "import os\n",
    "for dirname, _, filenames in os.walk('/kaggle/input'):\n",
    "    for filename in filenames:\n",
    "        print(os.path.join(dirname, filename))\n",
    "\n",
    "# You can write up to 20GB to the current directory (/kaggle/working/) that gets preserved as output when you create a version using \"Save & Run All\" \n",
    "# You can also write temporary files to /kaggle/temp/, but they won't be saved outside of the current session"
   ]
  },
  {
   "cell_type": "code",
   "execution_count": 2,
   "id": "83959d56",
   "metadata": {
    "execution": {
     "iopub.execute_input": "2023-12-22T10:31:42.878937Z",
     "iopub.status.busy": "2023-12-22T10:31:42.878368Z",
     "iopub.status.idle": "2023-12-22T10:31:42.927196Z",
     "shell.execute_reply": "2023-12-22T10:31:42.925560Z"
    },
    "papermill": {
     "duration": 0.056622,
     "end_time": "2023-12-22T10:31:42.930573",
     "exception": false,
     "start_time": "2023-12-22T10:31:42.873951",
     "status": "completed"
    },
    "tags": []
   },
   "outputs": [
    {
     "data": {
      "text/html": [
       "<div>\n",
       "<style scoped>\n",
       "    .dataframe tbody tr th:only-of-type {\n",
       "        vertical-align: middle;\n",
       "    }\n",
       "\n",
       "    .dataframe tbody tr th {\n",
       "        vertical-align: top;\n",
       "    }\n",
       "\n",
       "    .dataframe thead th {\n",
       "        text-align: right;\n",
       "    }\n",
       "</style>\n",
       "<table border=\"1\" class=\"dataframe\">\n",
       "  <thead>\n",
       "    <tr style=\"text-align: right;\">\n",
       "      <th></th>\n",
       "      <th>Years</th>\n",
       "      <th>Salary</th>\n",
       "    </tr>\n",
       "  </thead>\n",
       "  <tbody>\n",
       "    <tr>\n",
       "      <th>0</th>\n",
       "      <td>1.1</td>\n",
       "      <td>39343</td>\n",
       "    </tr>\n",
       "    <tr>\n",
       "      <th>1</th>\n",
       "      <td>1.2</td>\n",
       "      <td>42774</td>\n",
       "    </tr>\n",
       "    <tr>\n",
       "      <th>2</th>\n",
       "      <td>1.3</td>\n",
       "      <td>46205</td>\n",
       "    </tr>\n",
       "    <tr>\n",
       "      <th>3</th>\n",
       "      <td>1.5</td>\n",
       "      <td>37731</td>\n",
       "    </tr>\n",
       "    <tr>\n",
       "      <th>4</th>\n",
       "      <td>2.0</td>\n",
       "      <td>43525</td>\n",
       "    </tr>\n",
       "  </tbody>\n",
       "</table>\n",
       "</div>"
      ],
      "text/plain": [
       "   Years  Salary\n",
       "0    1.1   39343\n",
       "1    1.2   42774\n",
       "2    1.3   46205\n",
       "3    1.5   37731\n",
       "4    2.0   43525"
      ]
     },
     "execution_count": 2,
     "metadata": {},
     "output_type": "execute_result"
    }
   ],
   "source": [
    "df = pd.read_csv('/kaggle/input/salary-prediction-simple-linear-regression/SalaryPrediction.csv')\n",
    "df.rename(columns={'Experience Years': 'Years'}, inplace=True)\n",
    "df.head()"
   ]
  },
  {
   "cell_type": "code",
   "execution_count": 3,
   "id": "97835a72",
   "metadata": {
    "execution": {
     "iopub.execute_input": "2023-12-22T10:31:42.939412Z",
     "iopub.status.busy": "2023-12-22T10:31:42.938967Z",
     "iopub.status.idle": "2023-12-22T10:31:42.955252Z",
     "shell.execute_reply": "2023-12-22T10:31:42.953877Z"
    },
    "papermill": {
     "duration": 0.023286,
     "end_time": "2023-12-22T10:31:42.957469",
     "exception": false,
     "start_time": "2023-12-22T10:31:42.934183",
     "status": "completed"
    },
    "tags": []
   },
   "outputs": [],
   "source": [
    "ols_data = df[[\"Years\", \"Salary\"]]\n",
    "ols_formula = \"Salary ~ Years\""
   ]
  },
  {
   "cell_type": "code",
   "execution_count": 4,
   "id": "a8fb4b5c",
   "metadata": {
    "execution": {
     "iopub.execute_input": "2023-12-22T10:31:42.966159Z",
     "iopub.status.busy": "2023-12-22T10:31:42.965834Z",
     "iopub.status.idle": "2023-12-22T10:31:43.522079Z",
     "shell.execute_reply": "2023-12-22T10:31:43.520920Z"
    },
    "papermill": {
     "duration": 0.564466,
     "end_time": "2023-12-22T10:31:43.525951",
     "exception": false,
     "start_time": "2023-12-22T10:31:42.961485",
     "status": "completed"
    },
    "tags": []
   },
   "outputs": [],
   "source": [
    "from statsmodels.formula.api import ols\n",
    "\n",
    "OLS = ols(formula = ols_formula, data = ols_data)\n",
    "model = OLS.fit()"
   ]
  },
  {
   "cell_type": "code",
   "execution_count": 5,
   "id": "31cb9892",
   "metadata": {
    "execution": {
     "iopub.execute_input": "2023-12-22T10:31:43.537631Z",
     "iopub.status.busy": "2023-12-22T10:31:43.535880Z",
     "iopub.status.idle": "2023-12-22T10:31:43.574695Z",
     "shell.execute_reply": "2023-12-22T10:31:43.573820Z"
    },
    "papermill": {
     "duration": 0.046069,
     "end_time": "2023-12-22T10:31:43.576839",
     "exception": false,
     "start_time": "2023-12-22T10:31:43.530770",
     "status": "completed"
    },
    "tags": []
   },
   "outputs": [
    {
     "data": {
      "text/html": [
       "<table class=\"simpletable\">\n",
       "<caption>OLS Regression Results</caption>\n",
       "<tr>\n",
       "  <th>Dep. Variable:</th>         <td>Salary</td>      <th>  R-squared:         </th> <td>   0.956</td>\n",
       "</tr>\n",
       "<tr>\n",
       "  <th>Model:</th>                   <td>OLS</td>       <th>  Adj. R-squared:    </th> <td>   0.955</td>\n",
       "</tr>\n",
       "<tr>\n",
       "  <th>Method:</th>             <td>Least Squares</td>  <th>  F-statistic:       </th> <td>   823.3</td>\n",
       "</tr>\n",
       "<tr>\n",
       "  <th>Date:</th>             <td>Fri, 22 Dec 2023</td> <th>  Prob (F-statistic):</th> <td>2.32e-27</td>\n",
       "</tr>\n",
       "<tr>\n",
       "  <th>Time:</th>                 <td>10:31:43</td>     <th>  Log-Likelihood:    </th> <td> -400.39</td>\n",
       "</tr>\n",
       "<tr>\n",
       "  <th>No. Observations:</th>      <td>    40</td>      <th>  AIC:               </th> <td>   804.8</td>\n",
       "</tr>\n",
       "<tr>\n",
       "  <th>Df Residuals:</th>          <td>    38</td>      <th>  BIC:               </th> <td>   808.2</td>\n",
       "</tr>\n",
       "<tr>\n",
       "  <th>Df Model:</th>              <td>     1</td>      <th>                     </th>     <td> </td>   \n",
       "</tr>\n",
       "<tr>\n",
       "  <th>Covariance Type:</th>      <td>nonrobust</td>    <th>                     </th>     <td> </td>   \n",
       "</tr>\n",
       "</table>\n",
       "<table class=\"simpletable\">\n",
       "<tr>\n",
       "      <td></td>         <th>coef</th>     <th>std err</th>      <th>t</th>      <th>P>|t|</th>  <th>[0.025</th>    <th>0.975]</th>  \n",
       "</tr>\n",
       "<tr>\n",
       "  <th>Intercept</th> <td> 2.567e+04</td> <td> 1920.100</td> <td>   13.371</td> <td> 0.000</td> <td> 2.18e+04</td> <td> 2.96e+04</td>\n",
       "</tr>\n",
       "<tr>\n",
       "  <th>Years</th>     <td> 9523.6505</td> <td>  331.910</td> <td>   28.693</td> <td> 0.000</td> <td> 8851.734</td> <td> 1.02e+04</td>\n",
       "</tr>\n",
       "</table>\n",
       "<table class=\"simpletable\">\n",
       "<tr>\n",
       "  <th>Omnibus:</th>       <td> 3.473</td> <th>  Durbin-Watson:     </th> <td>   1.104</td>\n",
       "</tr>\n",
       "<tr>\n",
       "  <th>Prob(Omnibus):</th> <td> 0.176</td> <th>  Jarque-Bera (JB):  </th> <td>   1.767</td>\n",
       "</tr>\n",
       "<tr>\n",
       "  <th>Skew:</th>          <td> 0.194</td> <th>  Prob(JB):          </th> <td>   0.413</td>\n",
       "</tr>\n",
       "<tr>\n",
       "  <th>Kurtosis:</th>      <td> 2.046</td> <th>  Cond. No.          </th> <td>    13.0</td>\n",
       "</tr>\n",
       "</table><br/><br/>Notes:<br/>[1] Standard Errors assume that the covariance matrix of the errors is correctly specified."
      ],
      "text/latex": [
       "\\begin{center}\n",
       "\\begin{tabular}{lclc}\n",
       "\\toprule\n",
       "\\textbf{Dep. Variable:}    &      Salary      & \\textbf{  R-squared:         } &     0.956   \\\\\n",
       "\\textbf{Model:}            &       OLS        & \\textbf{  Adj. R-squared:    } &     0.955   \\\\\n",
       "\\textbf{Method:}           &  Least Squares   & \\textbf{  F-statistic:       } &     823.3   \\\\\n",
       "\\textbf{Date:}             & Fri, 22 Dec 2023 & \\textbf{  Prob (F-statistic):} &  2.32e-27   \\\\\n",
       "\\textbf{Time:}             &     10:31:43     & \\textbf{  Log-Likelihood:    } &   -400.39   \\\\\n",
       "\\textbf{No. Observations:} &          40      & \\textbf{  AIC:               } &     804.8   \\\\\n",
       "\\textbf{Df Residuals:}     &          38      & \\textbf{  BIC:               } &     808.2   \\\\\n",
       "\\textbf{Df Model:}         &           1      & \\textbf{                     } &             \\\\\n",
       "\\textbf{Covariance Type:}  &    nonrobust     & \\textbf{                     } &             \\\\\n",
       "\\bottomrule\n",
       "\\end{tabular}\n",
       "\\begin{tabular}{lcccccc}\n",
       "                   & \\textbf{coef} & \\textbf{std err} & \\textbf{t} & \\textbf{P$> |$t$|$} & \\textbf{[0.025} & \\textbf{0.975]}  \\\\\n",
       "\\midrule\n",
       "\\textbf{Intercept} &    2.567e+04  &     1920.100     &    13.371  &         0.000        &     2.18e+04    &     2.96e+04     \\\\\n",
       "\\textbf{Years}     &    9523.6505  &      331.910     &    28.693  &         0.000        &     8851.734    &     1.02e+04     \\\\\n",
       "\\bottomrule\n",
       "\\end{tabular}\n",
       "\\begin{tabular}{lclc}\n",
       "\\textbf{Omnibus:}       &  3.473 & \\textbf{  Durbin-Watson:     } &    1.104  \\\\\n",
       "\\textbf{Prob(Omnibus):} &  0.176 & \\textbf{  Jarque-Bera (JB):  } &    1.767  \\\\\n",
       "\\textbf{Skew:}          &  0.194 & \\textbf{  Prob(JB):          } &    0.413  \\\\\n",
       "\\textbf{Kurtosis:}      &  2.046 & \\textbf{  Cond. No.          } &     13.0  \\\\\n",
       "\\bottomrule\n",
       "\\end{tabular}\n",
       "%\\caption{OLS Regression Results}\n",
       "\\end{center}\n",
       "\n",
       "Notes: \\newline\n",
       " [1] Standard Errors assume that the covariance matrix of the errors is correctly specified."
      ],
      "text/plain": [
       "<class 'statsmodels.iolib.summary.Summary'>\n",
       "\"\"\"\n",
       "                            OLS Regression Results                            \n",
       "==============================================================================\n",
       "Dep. Variable:                 Salary   R-squared:                       0.956\n",
       "Model:                            OLS   Adj. R-squared:                  0.955\n",
       "Method:                 Least Squares   F-statistic:                     823.3\n",
       "Date:                Fri, 22 Dec 2023   Prob (F-statistic):           2.32e-27\n",
       "Time:                        10:31:43   Log-Likelihood:                -400.39\n",
       "No. Observations:                  40   AIC:                             804.8\n",
       "Df Residuals:                      38   BIC:                             808.2\n",
       "Df Model:                           1                                         \n",
       "Covariance Type:            nonrobust                                         \n",
       "==============================================================================\n",
       "                 coef    std err          t      P>|t|      [0.025      0.975]\n",
       "------------------------------------------------------------------------------\n",
       "Intercept   2.567e+04   1920.100     13.371      0.000    2.18e+04    2.96e+04\n",
       "Years       9523.6505    331.910     28.693      0.000    8851.734    1.02e+04\n",
       "==============================================================================\n",
       "Omnibus:                        3.473   Durbin-Watson:                   1.104\n",
       "Prob(Omnibus):                  0.176   Jarque-Bera (JB):                1.767\n",
       "Skew:                           0.194   Prob(JB):                        0.413\n",
       "Kurtosis:                       2.046   Cond. No.                         13.0\n",
       "==============================================================================\n",
       "\n",
       "Notes:\n",
       "[1] Standard Errors assume that the covariance matrix of the errors is correctly specified.\n",
       "\"\"\""
      ]
     },
     "execution_count": 5,
     "metadata": {},
     "output_type": "execute_result"
    }
   ],
   "source": [
    "model.summary()"
   ]
  },
  {
   "cell_type": "code",
   "execution_count": 6,
   "id": "52d60488",
   "metadata": {
    "execution": {
     "iopub.execute_input": "2023-12-22T10:31:43.590336Z",
     "iopub.status.busy": "2023-12-22T10:31:43.588332Z",
     "iopub.status.idle": "2023-12-22T10:31:43.598341Z",
     "shell.execute_reply": "2023-12-22T10:31:43.596976Z"
    },
    "papermill": {
     "duration": 0.020905,
     "end_time": "2023-12-22T10:31:43.601871",
     "exception": false,
     "start_time": "2023-12-22T10:31:43.580966",
     "status": "completed"
    },
    "tags": []
   },
   "outputs": [],
   "source": [
    "x = ols_data[\"Years\"]\n",
    "fitted_values = model.predict(x)"
   ]
  },
  {
   "cell_type": "code",
   "execution_count": 7,
   "id": "574fbc8d",
   "metadata": {
    "execution": {
     "iopub.execute_input": "2023-12-22T10:31:43.611095Z",
     "iopub.status.busy": "2023-12-22T10:31:43.610686Z",
     "iopub.status.idle": "2023-12-22T10:31:43.617038Z",
     "shell.execute_reply": "2023-12-22T10:31:43.615765Z"
    },
    "papermill": {
     "duration": 0.01506,
     "end_time": "2023-12-22T10:31:43.620736",
     "exception": false,
     "start_time": "2023-12-22T10:31:43.605676",
     "status": "completed"
    },
    "tags": []
   },
   "outputs": [],
   "source": [
    "residuals = model.resid"
   ]
  },
  {
   "cell_type": "code",
   "execution_count": 8,
   "id": "7686a9cb",
   "metadata": {
    "execution": {
     "iopub.execute_input": "2023-12-22T10:31:43.630818Z",
     "iopub.status.busy": "2023-12-22T10:31:43.629439Z",
     "iopub.status.idle": "2023-12-22T10:31:43.992558Z",
     "shell.execute_reply": "2023-12-22T10:31:43.990888Z"
    },
    "papermill": {
     "duration": 0.370958,
     "end_time": "2023-12-22T10:31:43.995643",
     "exception": false,
     "start_time": "2023-12-22T10:31:43.624685",
     "status": "completed"
    },
    "tags": []
   },
   "outputs": [
    {
     "data": {
      "text/plain": [
       "<Axes: xlabel='Years', ylabel='Salary'>"
      ]
     },
     "execution_count": 8,
     "metadata": {},
     "output_type": "execute_result"
    },
    {
     "data": {
      "image/png": "[encoded data removed]",
      "text/plain": [
       "<Figure size 640x480 with 1 Axes>"
      ]
     },
     "metadata": {},
     "output_type": "display_data"
    }
   ],
   "source": [
    "sns.regplot(x = \"Years\", y = \"Salary\", data = ols_data)"
   ]
  },
  {
   "cell_type": "markdown",
   "id": "d760eb4e",
   "metadata": {
    "papermill": {
     "duration": 0.006974,
     "end_time": "2023-12-22T10:31:44.006756",
     "exception": false,
     "start_time": "2023-12-22T10:31:43.999782",
     "status": "completed"
    },
    "tags": []
   },
   "source": [
    "From the above graph, the line represents the predicted relationship between the number of years of experience and the Salary earned"
   ]
  }
 ],
 "metadata": {
  "kaggle": {
   "accelerator": "none",
   "dataSources": [
    {
     "datasetId": 3853339,
     "sourceId": 6679486,
     "sourceType": "datasetVersion"
    }
   ],
   "dockerImageVersionId": 30626,
   "isGpuEnabled": false,
   "isInternetEnabled": true,
   "language": "python",
   "sourceType": "notebook"
  },
  "kernelspec": {
   "display_name": "Python 3",
   "language": "python",
   "name": "python3"
  },
  "language_info": {
   "codemirror_mode": {
    "name": "ipython",
    "version": 3
   },
   "file_extension": ".py",
   "mimetype": "text/x-python",
   "name": "python",
   "nbconvert_exporter": "python",
   "pygments_lexer": "ipython3",
   "version": "3.10.12"
  },
  "papermill": {
   "default_parameters": {},
   "duration": 10.363117,
   "end_time": "2023-12-22T10:31:46.658535",
   "environment_variables": {},
   "exception": null,
   "input_path": "__notebook__.ipynb",
   "output_path": "__notebook__.ipynb",
   "parameters": {},
   "start_time": "2023-12-22T10:31:36.295418",
   "version": "2.4.0"
  }
 },
 "nbformat": 4,
 "nbformat_minor": 5
}
